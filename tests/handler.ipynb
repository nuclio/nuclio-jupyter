{
 "cells": [
  {
   "cell_type": "markdown",
   "metadata": {},
   "source": [
    "# Example using jupyter-nuclio %nuclio magic\n",
    "\n",
    "The cell below will be excluded from the generated handler code since it has `# nuclio: ignore` comment"
   ]
  },
  {
   "cell_type": "code",
   "execution_count": 9,
   "metadata": {},
   "outputs": [],
   "source": [
    "# nuclio: ignore\n",
    "import nuclio"
   ]
  },
  {
   "cell_type": "markdown",
   "metadata": {},
   "source": [
    "## Setup Environment"
   ]
  },
  {
   "cell_type": "code",
   "execution_count": 10,
   "metadata": {},
   "outputs": [
    {
     "name": "stdout",
     "output_type": "stream",
     "text": [
      "%nuclio: setting 'USER' environment variable\n",
      "%nuclio: setting 'PASSWORD' environment variable\n"
     ]
    }
   ],
   "source": [
    "%%nuclio env\n",
    "USER=iguazio\n",
    "PASSWORD=t0ps3cr3t"
   ]
  },
  {
   "cell_type": "code",
   "execution_count": 11,
   "metadata": {},
   "outputs": [
    {
     "name": "stdout",
     "output_type": "stream",
     "text": [
      "%nuclio: setting 'API_KEY' environment variable\n"
     ]
    }
   ],
   "source": [
    "%nuclio env API_KEY=1234"
   ]
  },
  {
   "cell_type": "code",
   "execution_count": 12,
   "metadata": {},
   "outputs": [
    {
     "name": "stdout",
     "output_type": "stream",
     "text": [
      "%nuclio: setting 'NUM_JOBS' environment variable\n"
     ]
    }
   ],
   "source": [
    "from os import environ\n",
    "env_file = environ.get('ENV_FILE', 'env.txt')\n",
    "%nuclio env_file $env_file"
   ]
  },
  {
   "cell_type": "markdown",
   "metadata": {},
   "source": [
    "## Setting Configuration"
   ]
  },
  {
   "cell_type": "code",
   "execution_count": 6,
   "metadata": {},
   "outputs": [
    {
     "name": "stdout",
     "output_type": "stream",
     "text": [
      "%nuclio: setting spec.maxReplicas to 5\n"
     ]
    }
   ],
   "source": [
    "%nuclio config spec.maxReplicas = 5"
   ]
  },
  {
   "cell_type": "markdown",
   "metadata": {},
   "source": [
    "## Add Commands"
   ]
  },
  {
   "cell_type": "code",
   "execution_count": 15,
   "metadata": {},
   "outputs": [
    {
     "name": "stdout",
     "output_type": "stream",
     "text": [
      "Hit:1 http://security.debian.org/debian-security stretch/updates InRelease\n",
      "Ign:2 http://deb.debian.org/debian stretch InRelease\n",
      "Hit:3 http://deb.debian.org/debian stretch-updates InRelease\n",
      "Hit:4 http://deb.debian.org/debian stretch Release\n",
      "Reading package lists... Done\n",
      "Building dependency tree       \n",
      "Reading state information... Done\n",
      "20 packages can be upgraded. Run 'apt list --upgradable' to see them.\n",
      "Reading package lists... Done\n",
      "Building dependency tree       \n",
      "Reading state information... Done\n",
      "The following additional packages will be installed:\n",
      "  libyaml-0-2\n",
      "Suggested packages:\n",
      "  libyaml-doc\n",
      "The following NEW packages will be installed:\n",
      "  libyaml-0-2 libyaml-dev\n",
      "0 upgraded, 2 newly installed, 0 to remove and 20 not upgraded.\n",
      "Need to get 104 kB of archives.\n",
      "After this operation, 381 kB of additional disk space will be used.\n",
      "Get:1 http://deb.debian.org/debian stretch/main amd64 libyaml-0-2 amd64 0.1.7-2 [47.6 kB]\n",
      "Get:2 http://deb.debian.org/debian stretch/main amd64 libyaml-dev amd64 0.1.7-2 [56.7 kB]\n",
      "Fetched 104 kB in 0s (175 kB/s)\n",
      "debconf: delaying package configuration, since apt-utils is not installed\n",
      "\n",
      "\u001b7\u001b[0;23r\u001b8\u001b[1ASelecting previously unselected package libyaml-0-2:amd64.\n",
      "(Reading database ... 10360 files and directories currently installed.)\n",
      "Preparing to unpack .../libyaml-0-2_0.1.7-2_amd64.deb ...\n",
      "\u001b7\u001b[24;0f\u001b[42m\u001b[30mProgress: [  0%]\u001b[49m\u001b[39m [..........................................................] \u001b8\u001b7\u001b[24;0f\u001b[42m\u001b[30mProgress: [  9%]\u001b[49m\u001b[39m [#####.....................................................] \u001b8Unpacking libyaml-0-2:amd64 (0.1.7-2) ...\n",
      "\u001b7\u001b[24;0f\u001b[42m\u001b[30mProgress: [ 18%]\u001b[49m\u001b[39m [##########................................................] \u001b8\u001b7\u001b[24;0f\u001b[42m\u001b[30mProgress: [ 27%]\u001b[49m\u001b[39m [###############...........................................] \u001b8Selecting previously unselected package libyaml-dev:amd64.\n",
      "Preparing to unpack .../libyaml-dev_0.1.7-2_amd64.deb ...\n",
      "\u001b7\u001b[24;0f\u001b[42m\u001b[30mProgress: [ 36%]\u001b[49m\u001b[39m [#####################.....................................] \u001b8Unpacking libyaml-dev:amd64 (0.1.7-2) ...\n",
      "\u001b7\u001b[24;0f\u001b[42m\u001b[30mProgress: [ 45%]\u001b[49m\u001b[39m [##########################................................] \u001b8\u001b7\u001b[24;0f\u001b[42m\u001b[30mProgress: [ 54%]\u001b[49m\u001b[39m [###############################...........................] \u001b8\u001b[1mdpkg:\u001b[0m \u001b[1;31merror:\u001b[0m error creating new backup file '/var/lib/dpkg/status-old': Invalid cross-device link\n",
      "\n",
      "\u001b7\u001b[0;24r\u001b8\u001b[1A\u001b[JE: Sub-process /usr/bin/dpkg returned an error code (2)\n"
     ]
    }
   ],
   "source": [
    "%%nuclio cmd\n",
    "apt update\n",
    "apt install -y libyaml-dev"
   ]
  },
  {
   "cell_type": "code",
   "execution_count": 7,
   "metadata": {},
   "outputs": [],
   "source": [
    "%nuclio cmd --config-only apt-get install -y libyaml-dev"
   ]
  },
  {
   "cell_type": "code",
   "execution_count": 8,
   "metadata": {},
   "outputs": [
    {
     "name": "stdout",
     "output_type": "stream",
     "text": [
      "cache  empty  lib    lock  mail      opt  spool\n",
      "db     games  local  log   net-snmp  run  tmp\n",
      "PING google.com (172.217.22.110) 56(84) bytes of data.\n",
      "64 bytes from fra15s18-in-f14.1e100.net (172.217.22.110): icmp_seq=1 ttl=54 time=72.7 ms\n",
      "64 bytes from fra15s18-in-f14.1e100.net (172.217.22.110): icmp_seq=2 ttl=54 time=72.5 ms\n",
      "64 bytes from fra15s18-in-f14.1e100.net (172.217.22.110): icmp_seq=3 ttl=54 time=71.8 ms\n",
      "\n",
      "--- google.com ping statistics ---\n",
      "3 packets transmitted, 3 received, 0% packet loss, time 6ms\n",
      "rtt min/avg/max/mdev = 71.759/72.317/72.650/0.504 ms\n"
     ]
    }
   ],
   "source": [
    "%%nuclio cmd\n",
    "ls /var\n",
    "ping -c 3 google.com"
   ]
  },
  {
   "cell_type": "code",
   "execution_count": 11,
   "metadata": {},
   "outputs": [],
   "source": [
    "# nuclio: ignore\n",
    "evt = nuclio.Event(body='Nuclio')\n",
    "ctx = nuclio.Context()"
   ]
  },
  {
   "cell_type": "code",
   "execution_count": 12,
   "metadata": {},
   "outputs": [
    {
     "data": {
      "text/plain": [
       "'Hello Nuclio'"
      ]
     },
     "execution_count": 12,
     "metadata": {},
     "output_type": "execute_result"
    }
   ],
   "source": [
    "%nuclio handler\n",
    "\n",
    "msg = 'Hello ' + evt.body\n",
    "msg # nuclio: return"
   ]
  },
  {
   "cell_type": "code",
   "execution_count": null,
   "metadata": {},
   "outputs": [],
   "source": [
    "%nuclio export --output-dir /tmp/demo-handler"
   ]
  },
  {
   "cell_type": "code",
   "execution_count": null,
   "metadata": {},
   "outputs": [],
   "source": []
  },
  {
   "cell_type": "code",
   "execution_count": null,
   "metadata": {},
   "outputs": [],
   "source": []
  }
 ],
 "metadata": {
  "kernelspec": {
   "display_name": "Python 3",
   "language": "python",
   "name": "python3"
  },
  "language_info": {
   "codemirror_mode": {
    "name": "ipython",
    "version": 3
   },
   "file_extension": ".py",
   "mimetype": "text/x-python",
   "name": "python",
   "nbconvert_exporter": "python",
   "pygments_lexer": "ipython3",
   "version": "3.7.1"
  }
 },
 "nbformat": 4,
 "nbformat_minor": 2
}
