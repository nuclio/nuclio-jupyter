{
 "cells": [
  {
   "cell_type": "code",
   "execution_count": 1,
   "metadata": {},
   "outputs": [
    {
     "data": {
      "text/plain": [
       "<module 'nuclio' from '/home/miki/work/iguazio/nuclio-jupyter/nuclio/__init__.py'>"
      ]
     },
     "execution_count": 1,
     "metadata": {},
     "output_type": "execute_result"
    }
   ],
   "source": [
    "import nuclio\n",
    "nuclio"
   ]
  },
  {
   "cell_type": "code",
   "execution_count": 2,
   "metadata": {},
   "outputs": [
    {
     "name": "stdout",
     "output_type": "stream",
     "text": [
      "%nuclio: setting 'USER' environment variable\n",
      "%nuclio: setting 'PASSWORD' environment variable\n"
     ]
    }
   ],
   "source": [
    "%%nuclio env\n",
    "USER=iguazio\n",
    "PASSWORD=t0ps3cr3t"
   ]
  },
  {
   "cell_type": "code",
   "execution_count": 3,
   "metadata": {},
   "outputs": [
    {
     "name": "stdout",
     "output_type": "stream",
     "text": [
      "%nuclio: setting 'API_KEY' environment variable\n"
     ]
    }
   ],
   "source": [
    "%nuclio env API_KEY=1234"
   ]
  },
  {
   "cell_type": "code",
   "execution_count": 4,
   "metadata": {},
   "outputs": [
    {
     "name": "stdout",
     "output_type": "stream",
     "text": [
      "%nuclio: setting 'NUM_JOBS' environment variable\n"
     ]
    }
   ],
   "source": [
    "%nuclio env_file env.txt"
   ]
  },
  {
   "cell_type": "code",
   "execution_count": 5,
   "metadata": {},
   "outputs": [
    {
     "name": "stdout",
     "output_type": "stream",
     "text": [
      "%nuclio: setting spec.maxReplicas to 5\n"
     ]
    }
   ],
   "source": [
    "%nuclio config spec.maxReplicas = 5"
   ]
  },
  {
   "cell_type": "code",
   "execution_count": 6,
   "metadata": {},
   "outputs": [
    {
     "name": "stdout",
     "output_type": "stream",
     "text": [
      "bazinga.py   create.sh\tex.html  nuclio_test.html   nuclio_test.zip\r\n",
      "create.json  env.txt\tex.py\t nuclio_test.ipynb  t.py\r\n"
     ]
    }
   ],
   "source": [
    "%nuclio cmd ls"
   ]
  },
  {
   "cell_type": "code",
   "execution_count": 7,
   "metadata": {},
   "outputs": [],
   "source": [
    "%nuclio cmd --config-only apt-get install -y libyaml-dev"
   ]
  },
  {
   "cell_type": "code",
   "execution_count": 8,
   "metadata": {},
   "outputs": [
    {
     "name": "stdout",
     "output_type": "stream",
     "text": [
      "cache  empty  lib    lock  mail      opt  spool\n",
      "db     games  local  log   net-snmp  run  tmp\n",
      "PING google.com (172.217.22.110) 56(84) bytes of data.\n",
      "64 bytes from fra15s18-in-f14.1e100.net (172.217.22.110): icmp_seq=1 ttl=54 time=72.7 ms\n",
      "64 bytes from fra15s18-in-f14.1e100.net (172.217.22.110): icmp_seq=2 ttl=54 time=72.5 ms\n",
      "64 bytes from fra15s18-in-f14.1e100.net (172.217.22.110): icmp_seq=3 ttl=54 time=71.8 ms\n",
      "\n",
      "--- google.com ping statistics ---\n",
      "3 packets transmitted, 3 received, 0% packet loss, time 6ms\n",
      "rtt min/avg/max/mdev = 71.759/72.317/72.650/0.504 ms\n"
     ]
    }
   ],
   "source": [
    "%%nuclio cmd\n",
    "ls /var\n",
    "ping -c 3 google.com"
   ]
  },
  {
   "cell_type": "code",
   "execution_count": 11,
   "metadata": {},
   "outputs": [],
   "source": [
    "# nuclio: ignore\n",
    "evt = nuclio.Event(body='Nuclio')\n",
    "ctx = nuclio.Context()"
   ]
  },
  {
   "cell_type": "code",
   "execution_count": 12,
   "metadata": {},
   "outputs": [
    {
     "data": {
      "text/plain": [
       "'Hello Nuclio'"
      ]
     },
     "execution_count": 12,
     "metadata": {},
     "output_type": "execute_result"
    }
   ],
   "source": [
    "%nuclio handler\n",
    "\n",
    "msg = 'Hello ' + evt.body\n",
    "msg # nuclio: return"
   ]
  },
  {
   "cell_type": "code",
   "execution_count": null,
   "metadata": {},
   "outputs": [],
   "source": [
    "%nuclio export --output-dir /tmp/demo-handler"
   ]
  },
  {
   "cell_type": "code",
   "execution_count": null,
   "metadata": {},
   "outputs": [],
   "source": []
  }
 ],
 "metadata": {
  "kernelspec": {
   "display_name": "Python 3",
   "language": "python",
   "name": "python3"
  },
  "language_info": {
   "codemirror_mode": {
    "name": "ipython",
    "version": 3
   },
   "file_extension": ".py",
   "mimetype": "text/x-python",
   "name": "python",
   "nbconvert_exporter": "python",
   "pygments_lexer": "ipython3",
   "version": "3.7.1"
  }
 },
 "nbformat": 4,
 "nbformat_minor": 2
}
