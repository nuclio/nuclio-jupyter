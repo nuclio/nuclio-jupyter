{
 "cells": [
  {
   "cell_type": "markdown",
   "metadata": {},
   "source": [
    "# Example using jupyter-nuclio %nuclio magic\n",
    "\n",
    "The cell below will be excluded from the generated handler code since it has `# nuclio: ignore` comment"
   ]
  },
  {
   "cell_type": "code",
   "execution_count": 1,
   "metadata": {},
   "outputs": [],
   "source": [
    "# nuclio: ignore\n",
    "import nuclio"
   ]
  },
  {
   "cell_type": "markdown",
   "metadata": {},
   "source": [
    "## Setup Environment"
   ]
  },
  {
   "cell_type": "code",
   "execution_count": 2,
   "metadata": {},
   "outputs": [
    {
     "name": "stdout",
     "output_type": "stream",
     "text": [
      "%nuclio: setting 'USER' environment variable\n",
      "%nuclio: setting 'PASSWORD' environment variable\n"
     ]
    }
   ],
   "source": [
    "%%nuclio env\n",
    "USER=iguazio\n",
    "PASSWORD=t0ps3cr3t"
   ]
  },
  {
   "cell_type": "code",
   "execution_count": 3,
   "metadata": {},
   "outputs": [
    {
     "name": "stdout",
     "output_type": "stream",
     "text": [
      "%nuclio: setting 'API_KEY' environment variable\n"
     ]
    }
   ],
   "source": [
    "%nuclio env API_KEY=1234"
   ]
  },
  {
   "cell_type": "code",
   "execution_count": 4,
   "metadata": {},
   "outputs": [
    {
     "name": "stdout",
     "output_type": "stream",
     "text": [
      "%nuclio: setting 'NUM_JOBS' environment variable\n"
     ]
    }
   ],
   "source": [
    "from os import environ\n",
    "env_file = environ.get('ENV_FILE', 'env.txt')\n",
    "%nuclio env_file $env_file"
   ]
  },
  {
   "cell_type": "markdown",
   "metadata": {},
   "source": [
    "## Setting Configuration"
   ]
  },
  {
   "cell_type": "code",
   "execution_count": 5,
   "metadata": {},
   "outputs": [
    {
     "name": "stdout",
     "output_type": "stream",
     "text": [
      "%nuclio: setting spec.maxReplicas to 5\n"
     ]
    }
   ],
   "source": [
    "%nuclio config spec.maxReplicas = 5"
   ]
  },
  {
   "cell_type": "markdown",
   "metadata": {},
   "source": [
    "## Add Commands"
   ]
  },
  {
   "cell_type": "code",
   "execution_count": 6,
   "metadata": {},
   "outputs": [
    {
     "name": "stdout",
     "output_type": "stream",
     "text": [
      "/usr/bin/sh: apt: command not found\n",
      "/usr/bin/sh: apt: command not found\n"
     ]
    }
   ],
   "source": [
    "%%nuclio cmd\n",
    "apt update\n",
    "apt install -y libyaml-dev"
   ]
  },
  {
   "cell_type": "code",
   "execution_count": 7,
   "metadata": {},
   "outputs": [],
   "source": [
    "# nuclio: ignore\n",
    "event = nuclio.Event(body='Nuclio')"
   ]
  },
  {
   "cell_type": "markdown",
   "metadata": {},
   "source": [
    "## Exporting Handler\n",
    "\n",
    "You can use `File/Export Notebook as` menu or use the `%nuclio export` magic command. Cells marked with `%%nuclio handler` magic will be exported to functions. Lines marked with `# nuclio: return` comment will become the handler exit point.\n",
    "\n",
    "```python\n",
    "def handler(context, event):\n",
    "    msg = 'Hello ' + event.body\n",
    "    return msg  # nuclio: return\n",
    "```"
   ]
  },
  {
   "cell_type": "code",
   "execution_count": 8,
   "metadata": {},
   "outputs": [
    {
     "data": {
      "text/plain": [
       "'Hello Nuclio'"
      ]
     },
     "execution_count": 8,
     "metadata": {},
     "output_type": "execute_result"
    }
   ],
   "source": [
    "%%nuclio handler\n",
    "\n",
    "msg = 'Hello ' + event.body\n",
    "msg # nuclio: return"
   ]
  },
  {
   "cell_type": "code",
   "execution_count": 9,
   "metadata": {},
   "outputs": [
    {
     "name": "stdout",
     "output_type": "stream",
     "text": [
      "%nuclio: notebook exported to /tmp/demo-handler\n"
     ]
    }
   ],
   "source": [
    "%nuclio export --output-dir /tmp/demo-handler"
   ]
  },
  {
   "cell_type": "code",
   "execution_count": 10,
   "metadata": {},
   "outputs": [
    {
     "name": "stdout",
     "output_type": "stream",
     "text": [
      "handler.py  handler.yaml\r\n"
     ]
    }
   ],
   "source": [
    "!ls /tmp/demo-handler"
   ]
  },
  {
   "cell_type": "markdown",
   "metadata": {},
   "source": [
    "## Deploying\n",
    "\n",
    "If you have a [nuclio dashboard](https://github.com/nuclio/nuclio#quick-start-steps) running. You can deploy the handler using the `%nuclio deploy` magic"
   ]
  },
  {
   "cell_type": "code",
   "execution_count": null,
   "metadata": {},
   "outputs": [],
   "source": [
    "%nuclio deploy"
   ]
  }
 ],
 "metadata": {
  "kernelspec": {
   "display_name": "Python 3",
   "language": "python",
   "name": "python3"
  },
  "language_info": {
   "codemirror_mode": {
    "name": "ipython",
    "version": 3
   },
   "file_extension": ".py",
   "mimetype": "text/x-python",
   "name": "python",
   "nbconvert_exporter": "python",
   "pygments_lexer": "ipython3",
   "version": "3.7.1"
  }
 },
 "nbformat": 4,
 "nbformat_minor": 2
}
