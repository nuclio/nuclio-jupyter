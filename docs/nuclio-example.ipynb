{
 "cells": [
  {
   "cell_type": "markdown",
   "metadata": {
    "pycharm": {
     "name": "#%% md\n"
    }
   },
   "source": [
    "# nuclio: ignore\n",
    "# if the nuclio-jupyter package is not installed run !pip install nuclio-jupyter\n",
    "import nuclio "
   ]
  },
  {
   "cell_type": "code",
   "execution_count": 3,
   "metadata": {},
   "outputs": [
    {
     "name": "stdout",
     "output_type": "stream",
     "text": [
      "%nuclio: setting 'USER' environment variable\n",
      "%nuclio: setting 'VERSION' environment variable\n"
     ]
    }
   ],
   "source": [
    "%%nuclio env\n",
    "USER=john\n",
    "VERSION=1.0"
   ]
  },
  {
   "cell_type": "code",
   "execution_count": 4,
   "metadata": {},
   "outputs": [
    {
     "name": "stdout",
     "output_type": "stream",
     "text": [
      "%nuclio: setting 'PASSWORD' environment variable\n"
     ]
    }
   ],
   "source": [
    "%nuclio env PASSWORD=${PASSWORD}"
   ]
  },
  {
   "cell_type": "code",
   "execution_count": 5,
   "metadata": {},
   "outputs": [
    {
     "name": "stdout",
     "output_type": "stream",
     "text": [
      "%nuclio: setting spec.build.baseImage to 'python:3.7-buster'\n"
     ]
    }
   ],
   "source": [
    "%nuclio config spec.build.baseImage = \"python:3.7-buster\""
   ]
  },
  {
   "cell_type": "code",
   "execution_count": null,
   "metadata": {},
   "outputs": [],
   "source": [
    "%%nuclio cmd\n",
    "pip install requests\n",
    "apt-get update && apt-get install -y wget"
   ]
  },
  {
   "cell_type": "code",
   "execution_count": 8,
   "metadata": {},
   "outputs": [],
   "source": [
    "from os import environ\n",
    "def handler(context, event):\n",
    "    context.logger.info('some log message')\n",
    "    return 'Hello World '+environ.get('USER')"
   ]
  },
  {
   "cell_type": "code",
   "execution_count": 9,
   "metadata": {},
   "outputs": [
    {
     "name": "stdout",
     "output_type": "stream",
     "text": [
      "Python> 2019-03-13 20:50:14,458 [info] some log message\n"
     ]
    },
    {
     "data": {
      "text/plain": [
       "'Hello World john'"
      ]
     },
     "execution_count": 9,
     "metadata": {},
     "output_type": "execute_result"
    }
   ],
   "source": [
    "# nuclio: ignore\n",
    "event = nuclio.Event(body='')\n",
    "handler(context, event)"
   ]
  },
  {
   "cell_type": "code",
   "execution_count": 10,
   "metadata": {},
   "outputs": [
    {
     "name": "stdout",
     "output_type": "stream",
     "text": [
      "%nuclio: ['deploy', '-p', 'proj', '-c', '/User/nuclio-example.ipynb']\n",
      "%nuclio: [nuclio.deploy] 2019-03-13 20:50:35,270 (info) Building processor image\n",
      "%nuclio: [nuclio.deploy] 2019-03-13 20:50:45,356 (info) Pushing image\n",
      "%nuclio: [nuclio.deploy] 2019-03-13 20:50:46,364 (info) Build complete\n",
      "%nuclio: [nuclio.deploy] 2019-03-13 20:50:48,382 (info) Function deploy complete\n",
      "%nuclio: [nuclio.deploy] 2019-03-13 20:50:48,421 done creating nuclio-example, function address: 3.122.204.208:30287\n",
      "%nuclio: function deployed\n"
     ]
    }
   ],
   "source": [
    "%nuclio deploy -p proj -c"
   ]
  },
  {
   "cell_type": "code",
   "execution_count": 11,
   "metadata": {
    "pycharm": {
     "name": "#%%\n"
    }
   },
   "outputs": [
    {
     "name": "stdout",
     "output_type": "stream",
     "text": [
      "Hello World john"
     ]
    }
   ],
   "source": [
    "!curl 3.122.204.208:30287"
   ]
  },
  {
   "cell_type": "code",
   "execution_count": null,
   "outputs": [],
   "source": [],
   "metadata": {
    "collapsed": false,
    "pycharm": {
     "name": "#%%\n"
    }
   }
  }
 ],
 "metadata": {
  "kernelspec": {
   "display_name": "Python 3",
   "language": "python",
   "name": "python3"
  },
  "language_info": {
   "codemirror_mode": {
    "name": "ipython",
    "version": 3
   },
   "file_extension": ".py",
   "mimetype": "text/x-python",
   "name": "python",
   "nbconvert_exporter": "python",
   "pygments_lexer": "ipython3",
   "version": "3.6.8"
  }
 },
 "nbformat": 4,
 "nbformat_minor": 2
}