{
 "cells": [
  {
   "cell_type": "markdown",
   "metadata": {
    "pycharm": {
     "name": "#%% md\n"
    }
   },
   "source": [
    "# nuclio: ignore\n",
    "# if the nuclio-jupyter package is not installed run !pip install nuclio-jupyter\n",
    "import nuclio "
   ]
  },
  {
   "cell_type": "markdown",
   "metadata": {
    "pycharm": {
     "name": "#%% md\n"
    }
   },
   "source": [
    "%nuclio cmd pip install textblob\n",
    "%nuclio env TO_LANG=fr\n",
    "%nuclio config spec.build.baseImage = \"python:3.7-buster\""
   ]
  },
  {
   "cell_type": "code",
   "execution_count": 3,
   "metadata": {},
   "outputs": [],
   "source": [
    "from textblob import TextBlob\n",
    "import os\n",
    "\n",
    "def handler(context, event):\n",
    "    context.logger.info('This is an NLP example! ')\n",
    "\n",
    "    # process and correct the text\n",
    "    blob = TextBlob(event.body.decode('utf-8'))\n",
    "    corrected = blob.correct()\n",
    "\n",
    "    # debug print the text before and after correction\n",
    "    context.logger.info_with(\"Corrected text\", corrected=str(corrected), orig=str(blob))\n",
    "\n",
    "    # calculate sentiments\n",
    "    context.logger.info_with(\"Sentiment\",\n",
    "                             polarity=str(corrected.sentiment.polarity),\n",
    "                             subjectivity=str(corrected.sentiment.subjectivity))\n",
    "\n",
    "    # read target language from environment and return translated text\n",
    "    lang = os.getenv('TO_LANG','fr')\n",
    "    return str(corrected.translate(to=lang))"
   ]
  },
  {
   "cell_type": "code",
   "execution_count": 4,
   "metadata": {},
   "outputs": [
    {
     "name": "stdout",
     "output_type": "stream",
     "text": [
      "Python> 2019-03-14 14:38:16,597 [info] This is an NLP example! \n",
      "Python> 2019-03-14 14:38:16,659 [info] Corrected text: {'corrected': 'good morning', 'orig': 'good morninng'}\n",
      "Python> 2019-03-14 14:38:16,715 [info] Sentiment: {'polarity': '0.7', 'subjectivity': '0.6000000000000001'}\n"
     ]
    },
    {
     "data": {
      "text/plain": [
       "'Bonjour'"
      ]
     },
     "execution_count": 4,
     "metadata": {},
     "output_type": "execute_result"
    }
   ],
   "source": [
    "# nuclio: ignore\n",
    "event = nuclio.Event(body=b'good morninng')\n",
    "handler(context, event)"
   ]
  },
  {
   "cell_type": "code",
   "execution_count": 5,
   "metadata": {},
   "outputs": [
    {
     "name": "stdout",
     "output_type": "stream",
     "text": [
      "%nuclio: ['deploy', '-n', 'nlp', '-p', 'ai', '-c', '/User/nlp-example.ipynb']\n",
      "%nuclio: [nuclio.deploy] 2019-03-14 14:38:29,034 (info) Building processor image\n",
      "%nuclio: [nuclio.deploy] 2019-03-14 14:38:31,060 (info) Pushing image\n",
      "%nuclio: [nuclio.deploy] 2019-03-14 14:38:31,060 (info) Build complete\n",
      "%nuclio: [nuclio.deploy] 2019-03-14 14:38:35,090 (info) Function deploy complete\n",
      "%nuclio: [nuclio.deploy] 2019-03-14 14:38:35,129 done updating nlp, function address: 3.122.204.208:32182\n",
      "%nuclio: function deployed\n"
     ]
    }
   ],
   "source": [
    "%nuclio deploy -n nlp -p ai"
   ]
  },
  {
   "cell_type": "code",
   "execution_count": 6,
   "metadata": {},
   "outputs": [
    {
     "name": "stdout",
     "output_type": "stream",
     "text": [
      "Comment vas-tu"
     ]
    }
   ],
   "source": [
    "!curl -X POST -d \"how are you\" 3.122.204.208:32182"
   ]
  },
  {
   "cell_type": "code",
   "execution_count": null,
   "metadata": {},
   "outputs": [],
   "source": []
  }
 ],
 "metadata": {
  "kernelspec": {
   "display_name": "Python 3",
   "language": "python",
   "name": "python3"
  },
  "language_info": {
   "codemirror_mode": {
    "name": "ipython",
    "version": 3
   },
   "file_extension": ".py",
   "mimetype": "text/x-python",
   "name": "python",
   "nbconvert_exporter": "python",
   "pygments_lexer": "ipython3",
   "version": "3.6.8"
  }
 },
 "nbformat": 4,
 "nbformat_minor": 2
}